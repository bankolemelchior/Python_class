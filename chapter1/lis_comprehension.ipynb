{
 "cells": [
  {
   "cell_type": "code",
   "execution_count": 4,
   "metadata": {},
   "outputs": [
    {
     "data": {
      "text/plain": [
       "'_summary_\\n'"
      ]
     },
     "execution_count": 4,
     "metadata": {},
     "output_type": "execute_result"
    }
   ],
   "source": [
    "\"\"\"_summary_\n",
    "    1- List comprehension (permet de réduire le temps de calcul)\n",
    "    2- Built-in Function, abs() round() max() min() len() sum() any() all()\n",
    "    3- Modules\n",
    "\"\"\""
   ]
  },
  {
   "cell_type": "code",
   "execution_count": 5,
   "metadata": {},
   "outputs": [
    {
     "name": "stdout",
     "output_type": "stream",
     "text": [
      "[0, 4, 8, 12, 16]\n"
     ]
    }
   ],
   "source": [
    "liste = [i*2 for i in range(10) if (i % 2) == 0]\n",
    "print(liste)\n",
    "my_list = print(liste[:10])\n"
   ]
  },
  {
   "cell_type": "code",
   "execution_count": 14,
   "metadata": {},
   "outputs": [
    {
     "name": "stdout",
     "output_type": "stream",
     "text": [
      "True\n"
     ]
    }
   ],
   "source": [
    "this_list1 = [8, False]\n",
    "this_list2 = [4, 8, \"Melch\", True, False]\n",
    "\n",
    "if any(this_list1):\n",
    "    print()\n",
    "\n",
    "print(any(this_list1))\n"
   ]
  },
  {
   "cell_type": "code",
   "execution_count": 15,
   "metadata": {},
   "outputs": [
    {
     "name": "stdout",
     "output_type": "stream",
     "text": [
      "il fait 25 degrés à cotonou\n"
     ]
    }
   ],
   "source": [
    "message = \"il fait {} degrés à {}\".format(25, 'cotonou')\n",
    "print(message)"
   ]
  },
  {
   "cell_type": "code",
   "execution_count": 16,
   "metadata": {},
   "outputs": [],
   "source": [
    "with open('fichier.txt', 'w') as f:\n",
    "    for i in range(0, 20):\n",
    "        f.write(f'{i}: {i**2} \\n')\n",
    "    f.close()"
   ]
  },
  {
   "cell_type": "code",
   "execution_count": 28,
   "metadata": {},
   "outputs": [
    {
     "name": "stdout",
     "output_type": "stream",
     "text": [
      "['0: 0 ', '1: 1 ', '2: 4 ', '3: 9 ', '4: 16 ', '5: 25 ', '6: 36 ', '7: 49 ', '8: 64 ', '9: 81 ', '10: 100 ', '11: 121 ', '12: 144 ', '13: 169 ', '14: 196 ', '15: 225 ', '16: 256 ', '17: 289 ', '18: 324 ', '19: 361 ']\n",
      "[0, 1, 4, 9, 16, 25, 36, 49, 64, 81, 100, 121, 144, 169, 196, 225, 256, 289, 324, 361]\n"
     ]
    }
   ],
   "source": [
    "contente = open(\"fichier.txt\", \"r\").read().splitlines()\n",
    "contente_list = [int(i.split(':')[1]) for i in contente]\n",
    "print(contente)\n",
    "print(contente_list)"
   ]
  },
  {
   "cell_type": "code",
   "execution_count": null,
   "metadata": {},
   "outputs": [],
   "source": []
  }
 ],
 "metadata": {
  "kernelspec": {
   "display_name": "Python 3",
   "language": "python",
   "name": "python3"
  },
  "language_info": {
   "codemirror_mode": {
    "name": "ipython",
    "version": 3
   },
   "file_extension": ".py",
   "mimetype": "text/x-python",
   "name": "python",
   "nbconvert_exporter": "python",
   "pygments_lexer": "ipython3",
   "version": "3.11.4"
  },
  "orig_nbformat": 4,
  "vscode": {
   "interpreter": {
    "hash": "f2ae524a89d6bd14246aa3f9bcba70797649da62884d5160d422652a6c5e3e09"
   }
  }
 },
 "nbformat": 4,
 "nbformat_minor": 2
}
