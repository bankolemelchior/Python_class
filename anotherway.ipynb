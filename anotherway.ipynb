{
 "cells": [
  {
   "cell_type": "code",
   "execution_count": 2,
   "metadata": {},
   "outputs": [
    {
     "name": "stdout",
     "output_type": "stream",
     "text": [
      "fin fonction\n",
      "Bravo Mike\n"
     ]
    }
   ],
   "source": [
    "\"\"\"\n",
    "ctl + shift + p ensuite taper jupyter (il faut avoir le pack jupiter installer)\n",
    "Ceci est un code jupyter notbook\n",
    "\"\"\"\n",
    "def convertString(str):\n",
    "    print(str);\n",
    "print(\"fin fonction\");\n",
    "\n",
    "convertString(\"Bravo Mike\");"
   ]
  },
  {
   "cell_type": "code",
   "execution_count": 3,
   "metadata": {},
   "outputs": [
    {
     "name": "stdout",
     "output_type": "stream",
     "text": [
      "1\n",
      "2\n",
      "3\n",
      "4\n",
      "5\n",
      "6\n",
      "7\n",
      "8\n",
      "9\n"
     ]
    }
   ],
   "source": [
    "x = 1\n",
    "while x < 10:\n",
    "    print(x)\n",
    "    x += 1"
   ]
  },
  {
   "attachments": {},
   "cell_type": "markdown",
   "metadata": {},
   "source": []
  },
  {
   "cell_type": "code",
   "execution_count": 4,
   "metadata": {},
   "outputs": [
    {
     "name": "stdout",
     "output_type": "stream",
     "text": [
      "1\n",
      "1\n",
      "2\n",
      "3\n",
      "5\n",
      "8\n"
     ]
    }
   ],
   "source": [
    "def fibonacci(n):\n",
    "    a,b = 0, 1\n",
    "    while b < n:\n",
    "        c = a + b\n",
    "        a,b = b,c\n",
    "        print(a)\n",
    "fibonacci(10)"
   ]
  },
  {
   "cell_type": "code",
   "execution_count": 11,
   "metadata": {},
   "outputs": [
    {
     "name": "stdout",
     "output_type": "stream",
     "text": [
      "[1, 1, 2, 3, 5, 8]\n"
     ]
    }
   ],
   "source": [
    "def fibonacci(n):\n",
    "    fibonacci_list =[]\n",
    "    a,b = 0, 1\n",
    "    while b < n:\n",
    "        c = a + b\n",
    "        a,b = b,c\n",
    "        fibonacci_list.append(a)\n",
    "    return fibonacci_list\n",
    "\n",
    "the_list = fibonacci(10)\n",
    "print(the_list)"
   ]
  },
  {
   "cell_type": "code",
   "execution_count": 18,
   "metadata": {},
   "outputs": [
    {
     "name": "stdout",
     "output_type": "stream",
     "text": [
      "{'pommes': 100, 'bananes': 23, 'poires': 148, 'manges': 18, 'raisins': 1458}\n",
      "148\n",
      "4\n",
      "{'pommes': 100, 'bananes': 23, 'raisins': 1458, 'abricots': 30}\n"
     ]
    }
   ],
   "source": [
    "##Les Dictionnaires\n",
    "inventaire = {\n",
    "    'pommes': 100,\n",
    "    'bananes': 23,\n",
    "    'poires': 148,\n",
    "    'manges': 18,\n",
    "    'raisins': 1458\n",
    "}\n",
    "\n",
    "print(inventaire)\n",
    "#ajout\n",
    "inventaire['abricots'] = 30\n",
    "#suppression\n",
    "del inventaire['manges']\n",
    "valeur_supprimee = inventaire.pop('poires')\n",
    "print(valeur_supprimee)\n",
    "print(len(inventaire))\n",
    "print(inventaire)"
   ]
  },
  {
   "cell_type": "code",
   "execution_count": 16,
   "metadata": {},
   "outputs": [
    {
     "name": "stdout",
     "output_type": "stream",
     "text": [
      "{'negatif': [-47, -20, -5], 'positif': [58, 0, 41]}\n"
     ]
    }
   ],
   "source": [
    "classeur = {\n",
    "    'negatif':[],\n",
    "    'positif': []\n",
    "}\n",
    "\n",
    "def trier(classeur, my_list):\n",
    "    for el in my_list:\n",
    "        \n",
    "        if el >= 0:\n",
    "            positif = classeur.get('positif')\n",
    "            positif.append(el)\n",
    "        else:\n",
    "            negatif = classeur.get('negatif')\n",
    "            negatif.append(el)\n",
    "            \n",
    "    return classeur\n",
    "\n",
    "get_result = trier(classeur, [-47, -20, 58, -5, 0, 41])\n",
    "print(get_result)"
   ]
  },
  {
   "cell_type": "markdown",
   "metadata": {},
   "source": []
  },
  {
   "cell_type": "code",
   "execution_count": 9,
   "metadata": {},
   "outputs": [
    {
     "name": "stdout",
     "output_type": "stream",
     "text": [
      "1\n",
      "2\n",
      "3\n",
      "4\n",
      "5\n",
      "6\n",
      "7\n",
      "8\n",
      "9\n",
      "10\n",
      "[2, 4, 6, 8, 10]\n"
     ]
    }
   ],
   "source": [
    "def fonc1(n):\n",
    "    paires = []\n",
    "    for x in range(1, n+1):\n",
    "        if x % 2 == 0:\n",
    "            paires.append(x)\n",
    "        print(x);\n",
    "    return paires\n",
    "        \n",
    "print(fonc1(10))"
   ]
  },
  {
   "cell_type": "code",
   "execution_count": null,
   "metadata": {},
   "outputs": [],
   "source": [
    "villes = ['Paris', 'Berlin', 'Londres', 'Bruxelles'] # liste initiale\n",
    "print(villes)\n",
    "\n",
    "if 'Paris' in villes:\n",
    "    print('yes')\n",
    "else:\n",
    "    print('no')\n",
    " \n",
    "for el in villes:\n",
    "    print(villes)\n",
    "    \n",
    "for index, element in enumerate(villes):\n",
    "    print(index, villes)"
   ]
  },
  {
   "cell_type": "code",
   "execution_count": null,
   "metadata": {},
   "outputs": [],
   "source": [
    "villes = ['Paris', 'Berlin', 'Londres', 'Bruxelles'] # liste initiale\n",
    "print(villes)\n",
    "    \n",
    "for index, element in enumerate(villes):\n",
    "    print(index, villes)"
   ]
  },
  {
   "cell_type": "code",
   "execution_count": 10,
   "metadata": {},
   "outputs": [
    {
     "name": "stdout",
     "output_type": "stream",
     "text": [
      "['Paris', 'Berlin', 'Londres', 'Bruxelles']\n",
      "Paris 250\n",
      "Berlin 25478\n",
      "Londres 2544\n",
      "Bruxelles 121\n"
     ]
    }
   ],
   "source": [
    "villes = ['Paris', 'Berlin', 'Londres', 'Bruxelles'] # liste initiale\n",
    "print(villes);\n",
    "liste_2 = [250, 25478, 2544, 121, 5, 7784]\n",
    "\n",
    "for element1, element2 in zip(villes, liste_2):\n",
    "    print(element1, element2)"
   ]
  }
 ],
 "metadata": {
  "kernelspec": {
   "display_name": "Python 3",
   "language": "python",
   "name": "python3"
  },
  "language_info": {
   "codemirror_mode": {
    "name": "ipython",
    "version": 3
   },
   "file_extension": ".py",
   "mimetype": "text/x-python",
   "name": "python",
   "nbconvert_exporter": "python",
   "pygments_lexer": "ipython3",
   "version": "3.11.4"
  },
  "orig_nbformat": 4,
  "vscode": {
   "interpreter": {
    "hash": "f2ae524a89d6bd14246aa3f9bcba70797649da62884d5160d422652a6c5e3e09"
   }
  }
 },
 "nbformat": 4,
 "nbformat_minor": 2
}
